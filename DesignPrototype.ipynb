{
 "cells": [
  {
   "cell_type": "code",
   "execution_count": 1,
   "id": "61a8c1f2",
   "metadata": {},
   "outputs": [],
   "source": [
    "# Prototype code for Graphene-based NEMS simulator\n",
    "# Brant Norris\n",
    "\n",
    "#Note: Uncomment the \"pip install\" commands if your local (client-side) installation and environment does not already have the necessary tools and packages installed"
   ]
  },
  {
   "cell_type": "code",
   "execution_count": 2,
   "id": "5b1d8be3",
   "metadata": {},
   "outputs": [],
   "source": [
    "#pip install qiskit\n"
   ]
  },
  {
   "cell_type": "code",
   "execution_count": 3,
   "id": "33a22b08",
   "metadata": {},
   "outputs": [],
   "source": [
    "#pip install QuTiP"
   ]
  },
  {
   "cell_type": "code",
   "execution_count": 4,
   "id": "b1958eb9",
   "metadata": {},
   "outputs": [],
   "source": [
    "#pip install numpy"
   ]
  },
  {
   "cell_type": "code",
   "execution_count": 5,
   "id": "1a8784f8",
   "metadata": {},
   "outputs": [],
   "source": [
    "#pip install ipywidgets"
   ]
  },
  {
   "cell_type": "code",
   "execution_count": 6,
   "id": "37fa25f6",
   "metadata": {},
   "outputs": [],
   "source": [
    "#pip install Ipython"
   ]
  },
  {
   "cell_type": "code",
   "execution_count": 7,
   "id": "2f8d2027",
   "metadata": {},
   "outputs": [],
   "source": [
    "#pip install matplotlib"
   ]
  },
  {
   "cell_type": "code",
   "execution_count": 8,
   "id": "0ad66f1d",
   "metadata": {},
   "outputs": [],
   "source": [
    "#pip install pylatexenc"
   ]
  },
  {
   "cell_type": "code",
   "execution_count": 9,
   "id": "319c3cce",
   "metadata": {},
   "outputs": [],
   "source": [
    "#pip install voila"
   ]
  },
  {
   "cell_type": "code",
   "execution_count": 10,
   "id": "6e229595",
   "metadata": {},
   "outputs": [],
   "source": [
    "#pip install qiskit"
   ]
  },
  {
   "cell_type": "code",
   "execution_count": 11,
   "id": "933afd6d",
   "metadata": {},
   "outputs": [],
   "source": [
    "#pip install QuTiP"
   ]
  },
  {
   "cell_type": "code",
   "execution_count": 12,
   "id": "f0bc748d",
   "metadata": {},
   "outputs": [],
   "source": [
    "#pip install numpy"
   ]
  },
  {
   "cell_type": "code",
   "execution_count": 13,
   "id": "f4ba0087",
   "metadata": {},
   "outputs": [],
   "source": [
    "#pip install latex"
   ]
  },
  {
   "cell_type": "code",
   "execution_count": 14,
   "id": "880bde3d",
   "metadata": {},
   "outputs": [],
   "source": [
    "import numpy as np\n",
    "from qiskit import QuantumCircuit\n",
    "from qiskit.quantum_info import Operator\n",
    "from qiskit import *\n",
    "from qiskit.visualization import plot_histogram\n",
    "from qiskit.tools.monitor import job_monitor\n",
    "from qutip import *\n",
    "import matplotlib.pyplot as plt\n",
    "import ipywidgets as widgets\n",
    "import IPython\n",
    "from IPython.display import display, clear_output\n",
    "from ipywidgets import VBox\n",
    "from ipywidgets import HBox\n",
    "from ipywidgets import *"
   ]
  },
  {
   "cell_type": "code",
   "execution_count": null,
   "id": "e9e806a6",
   "metadata": {},
   "outputs": [],
   "source": []
  },
  {
   "cell_type": "code",
   "execution_count": 15,
   "id": "92fbeed3",
   "metadata": {},
   "outputs": [],
   "source": [
    "file = open(\"GrapheneQubit.png\", 'rb');"
   ]
  },
  {
   "cell_type": "code",
   "execution_count": 16,
   "id": "7b4cbfdf",
   "metadata": {},
   "outputs": [],
   "source": [
    "qubit_file = file.read();"
   ]
  },
  {
   "cell_type": "code",
   "execution_count": 17,
   "id": "766c05e3",
   "metadata": {},
   "outputs": [],
   "source": [
    "image_qubit = widgets.Image(value=qubit_file,format='png',width='300')"
   ]
  },
  {
   "cell_type": "code",
   "execution_count": 18,
   "id": "78aa079b",
   "metadata": {},
   "outputs": [],
   "source": [
    "label_qubit = widgets.Label(value='Graphene NEMS Qubit',style={'description_width':'initial'})"
   ]
  },
  {
   "cell_type": "code",
   "execution_count": 19,
   "id": "875a2960",
   "metadata": {},
   "outputs": [],
   "source": [
    "vbox_qubit = widgets.VBox([image_qubit, label_qubit])"
   ]
  },
  {
   "cell_type": "code",
   "execution_count": 20,
   "id": "ef0b7d73",
   "metadata": {},
   "outputs": [],
   "source": [
    "qubit_image = widgets.Image(value = qubit_file, format='png', width='300',height='400')\n"
   ]
  },
  {
   "cell_type": "code",
   "execution_count": null,
   "id": "9d5a57b6",
   "metadata": {},
   "outputs": [],
   "source": []
  },
  {
   "cell_type": "code",
   "execution_count": null,
   "id": "3878631a",
   "metadata": {},
   "outputs": [],
   "source": []
  },
  {
   "cell_type": "code",
   "execution_count": 21,
   "id": "41f0c0d2",
   "metadata": {},
   "outputs": [],
   "source": [
    "gate_select = widgets.Dropdown(options=[('X'),('Y'),('Z')], value='X', description='Gate type:',disabled=False)"
   ]
  },
  {
   "cell_type": "code",
   "execution_count": 22,
   "id": "1b8f6456",
   "metadata": {},
   "outputs": [],
   "source": [
    "run_button = widgets.Button(description='Run Simulation',tooltip='Run',style={'description_width': 'initial'},disabled=False)"
   ]
  },
  {
   "cell_type": "code",
   "execution_count": 23,
   "id": "5528add9",
   "metadata": {},
   "outputs": [],
   "source": [
    "initial_state = widgets.Dropdown(options=[('0', 0),('1', 1)], value=0, description='Initial state:',disabled=False)"
   ]
  },
  {
   "cell_type": "code",
   "execution_count": 24,
   "id": "3fc44c3c",
   "metadata": {},
   "outputs": [],
   "source": [
    "widget_output = widgets.Output()"
   ]
  },
  {
   "cell_type": "code",
   "execution_count": 25,
   "id": "dfd599d5",
   "metadata": {},
   "outputs": [],
   "source": [
    "def run_sim(event):\n",
    "    with widget_output:\n",
    "        clear_output()\n",
    "        print(\"Results: \")\n",
    "        print(f\"Initial state: {initial_state.value}\")\n",
    "        print(f\"Gate type: {gate_select.value}\")\n",
    "        circuit = QuantumCircuit(1,1)\n",
    "        if initial_state.value == 0:\n",
    "            circuit.initialize(0)\n",
    "        elif initial_state.value == 1:\n",
    "            circuit.initialize(1)\n",
    "        if gate_select.value == 'X':\n",
    "            circuit.x(0)\n",
    "        elif gate_select.value == 'Y':\n",
    "            circuit.y(0)\n",
    "        elif gate_select.value == 'Z':\n",
    "            circuit.z(0)\n",
    "        display(circuit.draw('mpl'))\n",
    "        #U = Operator(circuit) \n",
    "        #display(U.data)\n",
    "        meas = QuantumCircuit(1,1)\n",
    "        meas.measure(0,0)\n",
    "        backend = BasicAer.get_backend('qasm_simulator')\n",
    "        measurement_circuit = circuit.compose(meas)\n",
    "        result = backend.run(transpile(measurement_circuit,backend), shots=1000).result()\n",
    "        counts = result.get_counts(circuit)\n",
    "        print(counts)\n",
    "        display(plot_histogram(counts))\n",
    "        \n",
    "      \n",
    "        "
   ]
  },
  {
   "cell_type": "code",
   "execution_count": null,
   "id": "9e964f51",
   "metadata": {},
   "outputs": [],
   "source": []
  },
  {
   "cell_type": "code",
   "execution_count": 26,
   "id": "cccfcc6a",
   "metadata": {},
   "outputs": [],
   "source": [
    "run_button.on_click(run_sim)"
   ]
  },
  {
   "cell_type": "code",
   "execution_count": 27,
   "id": "45cdf42c",
   "metadata": {},
   "outputs": [],
   "source": [
    "vbox_sim = widgets.VBox([run_button, widget_output])"
   ]
  },
  {
   "cell_type": "code",
   "execution_count": 28,
   "id": "a474ab1d",
   "metadata": {},
   "outputs": [],
   "source": [
    "title = widgets.HTML(value=\"<h1>Graphene-based NEMS Simulator</h1>\")"
   ]
  },
  {
   "cell_type": "code",
   "execution_count": 29,
   "id": "96584e47",
   "metadata": {},
   "outputs": [],
   "source": [
    "vbox_button = widgets.VBox([run_button, widget_output])"
   ]
  },
  {
   "cell_type": "code",
   "execution_count": 30,
   "id": "6e4b4b9f",
   "metadata": {},
   "outputs": [],
   "source": [
    "vbox_output = widgets.VBox([title, initial_state, gate_select, vbox_button])"
   ]
  },
  {
   "cell_type": "code",
   "execution_count": 31,
   "id": "197a4881",
   "metadata": {},
   "outputs": [],
   "source": [
    "front_end = widgets.HBox([vbox_qubit, vbox_output])"
   ]
  },
  {
   "cell_type": "code",
   "execution_count": 32,
   "id": "d7632bc0",
   "metadata": {},
   "outputs": [
    {
     "data": {
      "application/vnd.jupyter.widget-view+json": {
       "model_id": "c2800a9582a24cf79b7f4757c7de6f26",
       "version_major": 2,
       "version_minor": 0
      },
      "text/plain": [
       "HBox(children=(VBox(children=(Image(value=b'\\x89PNG\\r\\n\\x1a\\n\\x00\\x00\\x00\\rIHDR\\x00\\x00\\x01U\\x00\\x00\\x010\\x08\\…"
      ]
     },
     "metadata": {},
     "output_type": "display_data"
    }
   ],
   "source": [
    "display(front_end)"
   ]
  },
  {
   "cell_type": "code",
   "execution_count": null,
   "id": "e75d7f22",
   "metadata": {},
   "outputs": [],
   "source": []
  },
  {
   "cell_type": "code",
   "execution_count": null,
   "id": "b4722304",
   "metadata": {},
   "outputs": [],
   "source": []
  },
  {
   "cell_type": "code",
   "execution_count": null,
   "id": "707b080c",
   "metadata": {},
   "outputs": [],
   "source": []
  }
 ],
 "metadata": {
  "kernelspec": {
   "display_name": "Python 3 (ipykernel)",
   "language": "python",
   "name": "python3"
  },
  "language_info": {
   "codemirror_mode": {
    "name": "ipython",
    "version": 3
   },
   "file_extension": ".py",
   "mimetype": "text/x-python",
   "name": "python",
   "nbconvert_exporter": "python",
   "pygments_lexer": "ipython3",
   "version": "3.8.13"
  }
 },
 "nbformat": 4,
 "nbformat_minor": 5
}
